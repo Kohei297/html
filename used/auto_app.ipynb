{
 "cells": [
  {
   "cell_type": "markdown",
   "metadata": {},
   "source": [
    "## 実装"
   ]
  },
  {
   "cell_type": "markdown",
   "metadata": {},
   "source": [
    "- カレンダー\n",
    "- 新規予定\n",
    "- 通知\n",
    "    - カスタム\n",
    "        - ファイルを開く\n",
    "        - .pyファイルを選択\n",
    "    - 時間を指定（イベントの開始時刻？）"
   ]
  },
  {
   "cell_type": "markdown",
   "metadata": {},
   "source": [
    "環境構築\n",
    "- サイトへ行き、F12\n",
    "- htmlから目的の場所を探す\n",
    "- 右クリック\n",
    "    - Copy\n",
    "    - XPathをコピー\n",
    "- 指定の場所に貼り付け"
   ]
  },
  {
   "cell_type": "markdown",
   "metadata": {},
   "source": [
    "## ファイル内容"
   ]
  },
  {
   "cell_type": "code",
   "execution_count": null,
   "metadata": {},
   "outputs": [],
   "source": [
    "#! pip3 install selenium"
   ]
  },
  {
   "cell_type": "code",
   "execution_count": 11,
   "metadata": {},
   "outputs": [],
   "source": [
    "import selenium\n",
    "from selenium import webdriver\n",
    "from selenium.webdriver.common.keys import Keys\n",
    "import time\n",
    "from selenium.webdriver.common.by import By\n",
    "\n",
    "driver = selenium.webdriver.Chrome()    #ChromeDriverのパスを引数に指定しChromeを起動\n",
    "driver.maximize_window\n",
    "driver.get(\"https://was2022.media.gunma-u.ac.jp/?switch-hostname=shfa17021&client-mac=3897.a41e.ca50&client-ip=10.21.87.174&original-url=http%3A%2F%2Fwww.gstatic.com%2Fgenerate_204\")   #ChromeでアクセスしたいURLを指定（今回はGoogle）\n",
    "time.sleep(1)\n",
    "login_id = driver.find_element(By.XPATH, \"/html/body/div/div[3]/form/div[1]/input\")\n",
    "login_id.send_keys(\"h200b038\")\n",
    "time.sleep(1)\n",
    "password = driver.find_element(By.XPATH, \"/html/body/div/div[3]/form/div[2]/input\")\n",
    "password.send_keys(\"-----\")\n",
    "time.sleep(1)\n",
    "login_button = driver.find_element(By.XPATH, \"/html/body/div/div[3]/form/input\")\n",
    "login_button.click()\n",
    "time.sleep(1)\n",
    "driver.close()"
   ]
  }
 ],
 "metadata": {
  "kernelspec": {
   "display_name": "Python 3",
   "language": "python",
   "name": "python3"
  },
  "language_info": {
   "codemirror_mode": {
    "name": "ipython",
    "version": 3
   },
   "file_extension": ".py",
   "mimetype": "text/x-python",
   "name": "python",
   "nbconvert_exporter": "python",
   "pygments_lexer": "ipython3",
   "version": "3.10.10"
  }
 },
 "nbformat": 4,
 "nbformat_minor": 2
}
