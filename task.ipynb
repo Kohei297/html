{
 "cells": [
  {
   "cell_type": "markdown",
   "metadata": {},
   "source": [
    "## 12/11\n",
    "- 肥満、高脂血症、高血糖、脂質異常（MetSにおいて）を判定\n",
    "- メタボの判定\n"
   ]
  },
  {
   "cell_type": "code",
   "execution_count": 1,
   "metadata": {},
   "outputs": [],
   "source": [
    "import master_code as mc"
   ]
  },
  {
   "cell_type": "code",
   "execution_count": null,
   "metadata": {},
   "outputs": [],
   "source": [
    "import numpy as np\n",
    "import pandas as pd\n",
    "main = pd.read_csv('main.csv', encoding = 'cp932')"
   ]
  },
  {
   "cell_type": "code",
   "execution_count": null,
   "metadata": {},
   "outputs": [],
   "source": [
    "df = main.copy()\n",
    "metS_facter = [\n",
    "    ['性別', '腹囲'],               # 腹囲\n",
    "    ['収縮機血圧', '拡張期血圧'],     # 血圧\n",
    "    ['空腹時血糖', 'HbA1c'],        # 血糖\n",
    "    ['中性脂肪', 'HDL']             # 脂質\n",
    "]\n",
    "\n",
    "def mets_judge(df, metS_facter):\n",
    "\n",
    "    df['腹囲_'] = (((df[metS_facter[0][0]] == 1) & (df[metS_facter[0][1]] >= 85) |   # 男性\n",
    "                (df[metS_facter[0][0]] == 0) & (df[metS_facter[0][1]] >= 90))     # 女性\n",
    "                .where((df[metS_facter[0][0]].notnull()) & (df[metS_facter[0][1]].notnull()), np.nan)\n",
    "                ) \n",
    "    df['血圧_'] = (((df[metS_facter[1][0]] >= 130) |    # 収縮期血圧\n",
    "                (df[metS_facter[1][1]] >= 85))       # 拡張期血圧\n",
    "                .where((df[metS_facter[1][0]].notnull()) & (df[metS_facter[1][1]].notnull()), np.nan)\n",
    "                )\n",
    "    df['血糖_'] = (((df[metS_facter[2][0]] >= 110) |    # 空腹時血糖\n",
    "                (df[metS_facter[2][1]] >= 5.6))             # HbA1c\n",
    "                .where((df[metS_facter[2][0]].notnull()) & (df[metS_facter[2][1]].notnull()), np.nan)\n",
    "                )\n",
    "    df['脂質_'] = (((df[metS_facter[3][0]] >= 150) |    # 中性脂肪\n",
    "                (df['HDL'] <= 40))                     # HDL\n",
    "                .where((df[metS_facter[3][0]].notnull()) & (df[metS_facter[3][1]].notnull()), np.nan)\n",
    "                )\n",
    "    \n",
    "    # nanの変換\n",
    "    # df['腹囲'] = df['腹囲'].where((~df['腹囲'].notnull()) | (~df['性別'].notnull()), np.nan)\n",
    "    # df['血圧'] = df['血圧'].where((~df['収縮機血圧'].notnull()) | (~df['拡張期血圧'].notnull()), np.nan)\n",
    "    # df['血糖'] = df['血糖'].where((~df['空腹時血糖'].notnull()) | (~df['HbA1c'].notnull()), np.nan)\n",
    "    # df['脂質'] = df['脂質'].where((~df['中性脂肪'].notnull()) | (~df['HDL'].notnull()), np.nan)\n",
    "\n",
    "    # 判定\n",
    "    df['MetS'] = (df['腹囲_'] == True) & ((df['血圧_'] + df['血糖_'] + df['脂質_'] >= 2))\n",
    "\n",
    "    df_metS = df[df['MetS'] == True]\n",
    "    df_non_metS = df[df['MetS'] == False]\n",
    "    return df_metS, df_non_metS"
   ]
  },
  {
   "cell_type": "code",
   "execution_count": null,
   "metadata": {},
   "outputs": [],
   "source": [
    "# 実行\n",
    "df_metS, df_non_metS = mets_judge(df, metS_facter)\n",
    "print(df_metS)\n",
    "print(df_non_metS)"
   ]
  },
  {
   "cell_type": "code",
   "execution_count": null,
   "metadata": {},
   "outputs": [],
   "source": []
  }
 ],
 "metadata": {
  "kernelspec": {
   "display_name": "Python 3",
   "language": "python",
   "name": "python3"
  },
  "language_info": {
   "codemirror_mode": {
    "name": "ipython",
    "version": 3
   },
   "file_extension": ".py",
   "mimetype": "text/x-python",
   "name": "python",
   "nbconvert_exporter": "python",
   "pygments_lexer": "ipython3",
   "version": "3.10.10"
  }
 },
 "nbformat": 4,
 "nbformat_minor": 2
}
