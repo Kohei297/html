{
 "cells": [
  {
   "cell_type": "markdown",
   "metadata": {},
   "source": [
    "## 12/11\n",
    "- 肥満、高脂血症、高血糖、脂質異常（MetSにおいて）を判定\n",
    "- メタボの判定\n"
   ]
  },
  {
   "cell_type": "code",
   "execution_count": 1,
   "metadata": {},
   "outputs": [],
   "source": [
    "import master_code as mc"
   ]
  },
  {
   "cell_type": "code",
   "execution_count": null,
   "metadata": {},
   "outputs": [],
   "source": [
    "import numpy as np\n",
    "import pandas as pd\n",
    "main = pd.read_csv('main.csv', encoding = 'cp932')"
   ]
  },
  {
   "cell_type": "code",
   "execution_count": null,
   "metadata": {},
   "outputs": [],
   "source": [
    "df = main.copy()\n",
    "metS_facter = [\n",
    "    ['性別', '腹囲'],               # 腹囲\n",
    "    ['収縮機血圧', '拡張期血圧'],     # 血圧\n",
    "    ['空腹時血糖', 'HbA1c'],        # 血糖\n",
    "    ['中性脂肪', 'HDL']             # 脂質\n",
    "]\n",
    "\n",
    "def mets_judge(df, metS_facter = [['性別', '腹囲'], ['収縮機血圧', '拡張期血圧'], ['空腹時血糖', 'HbA1c'], ['中性脂肪', 'HDL']]):   #全対応\n",
    "    #腹囲判定\n",
    "    df['腹囲_'] = (df[metS_facter[0][1]].mask((df[metS_facter[0][0]] == 1) & (df[metS_facter[0][1]] >= 85), True) # 男性       #どちらもデータがあってTrueの場合True\n",
    "                            .mask((df[metS_facter[0][0]] == 0) & (df[metS_facter[0][1]] >= 90), True) # 女性    　\n",
    "                            .mask((df[metS_facter[0][0]] == 1) & (df[metS_facter[0][1]] < 85), False)  # 男性      #どちらもデータがあってFalseの場合False\n",
    "                            .mask((df[metS_facter[0][0]] == 0) & (df[metS_facter[0][1]] < 90), False)  # 女性\n",
    "                            .mask((df[metS_facter[0][0]].isnull()) | (df[metS_facter[0][1]].isnull()), np.nan)    #性別 or 腹囲がない場合nan\n",
    "    )\n",
    "\n",
    "    #血圧判定\n",
    "    df['血圧_'] = (df[metS_facter[1][0]].mask((df[metS_facter[1][0]] >= 130) | (df[metS_facter[1][1]] >= 85), True)      # どちらかがTrueの場合True\n",
    "                            .mask((df[metS_facter[1][0]] < 130) & (df[metS_facter[1][1]] < 85), False)            # どちらもFalseの場合False\n",
    "                            .mask((~(df[metS_facter[1][0]] >= 130) & ~(df[metS_facter[1][1]] >= 85))                    # どちらもFalseかnanであって\n",
    "                                  & ((df[metS_facter[1][0]].isnull()) | (df[metS_facter[1][1]].isnull())), np.nan)      # どちらもnanの場合nan\n",
    "    )\n",
    "\n",
    "    #血糖判定\n",
    "    df['血糖_'] = (df[metS_facter[2][0]].mask((df[metS_facter[2][0]] >= 110) | (df[metS_facter[2][1]] >= 5.6), True)          # どちらかがTrueの場合True\n",
    "                            .mask((df[metS_facter[2][0]] < 110) & (df[metS_facter[2][1]] < 5.6), False)                # どちらもFalseの場合False\n",
    "                            .mask((~(df[metS_facter[2][0]] >= 110) & ~(df[metS_facter[2][1]] >= 5.6))                   # どちらもFalseかnanであって\n",
    "                                  & ((df[metS_facter[2][0]].isnull()) | (df[metS_facter[2][1]].isnull())), np.nan)      # どちらもnanの場合nan\n",
    "    )\n",
    "\n",
    "    #脂質判定\n",
    "    df['脂質_'] = (df[metS_facter[3][0]].mask((df[metS_facter[3][0]] >= 150) | (df[metS_facter[3][1]] <= 40), True)           # どちらかがTrueの場合True\n",
    "                            .mask((df[metS_facter[3][0]] < 150) & (df[metS_facter[3][1]] > 40), False)               # どちらもFalseの場合False\n",
    "                            .mask((~(df[metS_facter[3][0]] >= 150) & ~(df[metS_facter[3][1]] <= 40))                 # どちらもFalseかnanであって     \n",
    "                                  & ((df[metS_facter[3][0]].isnull()) | (df[metS_facter[3][1]].isnull())), np.nan)      # どちらもnanの場合nan\n",
    "    )\n",
    "\n",
    "    df['MetS'] = (df['腹囲']\n",
    "                .mask((df['腹囲_'] == True) & ((df['血圧_'] + df['血糖_'] + df['脂質_'] >= 2))           \n",
    "                       , 'MetS')                                                                        # 腹囲がある & 2つ以上の項目が異常\n",
    "\n",
    "                .mask((df['腹囲_'] == True) &                                                            # 腹囲異常　& \n",
    "                      (df['血圧_'] + df['血糖_'] + df['脂質_'] == 1) &                                    # 1つの項目が異常 &\n",
    "                      (df['血圧_'].notnull()) & (df['血糖_'].notnull()) & (df['脂質_'].notnull())         # 3項目がある(nanがない)\n",
    "                       , 's/o_MetS')                                                                    # 腹囲がある & 1つの項目が異常\n",
    "\n",
    "                .mask((df['腹囲_'] == False) |                                                           # 腹囲正常　or\n",
    "                     ((df['腹囲_'] == True) & (df['血圧_'] + df['血糖_'] + df['脂質_'] == 0) &             # 3項目が正常 &\n",
    "                      (df['血圧_'].notnull()) & (df['血糖_'].notnull()) & (df['脂質_'].notnull()))        # 3項目がある(nanがない)\n",
    "                       , 'not_MetS')                                                                    # 腹囲がない & 異常なし\n",
    "\n",
    "                .mask((df['腹囲_'].isnull()) |                                                           # 腹囲がない or\n",
    "                     ((df['腹囲_'] == True) &                                                            # 腹囲がある &\n",
    "                     ((df['血圧_'].isnull()) & (df['血糖_'].isnull()) & (df['脂質_'].isnull()) |          # 3項目がない(nanがある) or\n",
    "                      (df['血圧_'] + df['血糖_'] + df['脂質_'] == 1) &                                    # 1つの項目が異常 &\n",
    "                     ((df['血圧_'].isnull()) | (df['血糖_'].isnull()) | (df['脂質_'].isnull()))))         # nanがある\n",
    "                       , 'N/A')                                                                         # 判定なし                 \n",
    "    )\n",
    "    \n",
    "    df_metS = df[df['MetS'] == 'MetS']\n",
    "    df_so_metS = df[df['MetS'] == 's/o_MetS']\n",
    "    df_non_metS = df[df['MetS'] == 'not_MetS']\n",
    "    df_na_metS = df[df['MetS'] == 'N/A']\n",
    "    return df_metS, df_so_metS, df_non_metS, df_na_metS"
   ]
  },
  {
   "cell_type": "code",
   "execution_count": null,
   "metadata": {},
   "outputs": [],
   "source": []
  },
  {
   "cell_type": "code",
   "execution_count": null,
   "metadata": {},
   "outputs": [],
   "source": [
    "df = main.copy()\n",
    "metS_facter = [\n",
    "    ['性別', '腹囲'],               # 腹囲\n",
    "    ['収縮機血圧', '拡張期血圧'],     # 血圧\n",
    "    ['空腹時血糖', 'HbA1c'],        # 血糖\n",
    "    ['中性脂肪', 'HDL']             # 脂質\n",
    "]\n",
    "\n",
    "def mets_judge(df):   # 変数最小\n",
    "    #腹囲判定\n",
    "    df['腹囲_'] = (df['腹囲'].mask((df['性別'] == 1) & (df['腹囲'] >= 85), True) # 男性       #どちらもデータがあってTrueの場合True\n",
    "                            .mask((df['性別'] == 0) & (df['腹囲'] >= 90), True) # 女性    　\n",
    "                            .mask((df['性別'] == 1) & (df['腹囲'] < 85), False)  # 男性      #どちらもデータがあってFalseの場合False\n",
    "                            .mask((df['性別'] == 0) & (df['腹囲'] < 90), False)  # 女性\n",
    "                            .mask((df['性別'].isnull()) | (df['腹囲'].isnull()), np.nan)    #性別 or 腹囲がない場合nan\n",
    "    )\n",
    "\n",
    "    #血圧判定\n",
    "    df['血圧_'] = (df['収縮機血圧'] .mask((df['収縮期血圧'] >= 130) | (df['拡張期血圧'] >= 85), True)      # どちらかがTrueの場合True\n",
    "                              .mask((df['収縮期血圧'] < 130) & (df['拡張期血圧'] < 85), False)            # どちらもFalseの場合False\n",
    "                              .mask((~(df['収縮期血圧'] >= 130) & ~(df['拡張期血圧'] >= 85))                    # どちらもFalseかnanであって\n",
    "                                  & ((df['収縮期血圧'].isnull()) | (df['拡張期血圧'].isnull())), np.nan)      # どちらもnanの場合nan\n",
    "    )\n",
    "\n",
    "    #血糖判定\n",
    "    df['血糖_'] = (df['空腹時血糖'].mask((df['空腹時血糖'] >= 110) | (df['HbA1c'] >= 5.6), True)          # どちらかがTrueの場合True\n",
    "                              .mask((df['空腹時血糖'] < 110) & (df['HbA1c'] < 5.6), False)                # どちらもFalseの場合False\n",
    "                              .mask((~(df['空腹時血糖'] >= 110) & ~(df['HbA1c'] >= 5.6))                   # どちらもFalseかnanであって\n",
    "                                  & ((df['空腹時血糖'].isnull()) | (df['HbA1c'].isnull())), np.nan)      # どちらもnanの場合nan\n",
    "    )\n",
    "\n",
    "    #脂質判定\n",
    "    df['脂質_'] = (df['中性脂肪'].mask((df['中性脂肪'] >= 150) | (df['HDL'] <= 40), True)           # どちらかがTrueの場合True\n",
    "                               .mask((df['中性脂肪'] < 150) & (df['HDL'] > 40), False)               # どちらもFalseの場合False\n",
    "                               .mask((~(df['中性脂肪'] >= 150) & ~(df['HDL'] <= 40))                 # どちらもFalseかnanであって     \n",
    "                                  & ((df['中性脂肪'].isnull()) | (df['HDL'].isnull())), np.nan)      # どちらもnanの場合nan\n",
    "    )\n",
    "\n",
    "    df['MetS'] = (df['腹囲']\n",
    "                .mask((df['腹囲_'] == True) & ((df['血圧_'] + df['血糖_'] + df['脂質_'] >= 2))           \n",
    "                       , 'MetS')                                                                        # 腹囲がある & 2つ以上の項目が異常\n",
    "\n",
    "                .mask((df['腹囲_'] == True) &                                                            # 腹囲異常　& \n",
    "                      (df['血圧_'] + df['血糖_'] + df['脂質_'] == 1) &                                    # 1つの項目が異常 &\n",
    "                      (df['血圧_'].notnull()) & (df['血糖_'].notnull()) & (df['脂質_'].notnull())         # 3項目がある(nanがない)\n",
    "                       , 's/o_MetS')                                                                    # 腹囲がある & 1つの項目が異常\n",
    "\n",
    "                .mask((df['腹囲_'] == False) |                                                           # 腹囲正常　or\n",
    "                     ((df['腹囲_'] == True) & (df['血圧_'] + df['血糖_'] + df['脂質_'] == 0) &             # 3項目が正常 &\n",
    "                      (df['血圧_'].notnull()) & (df['血糖_'].notnull()) & (df['脂質_'].notnull()))        # 3項目がある(nanがない)\n",
    "                       , 'not_MetS')                                                                    # 腹囲がない & 異常なし\n",
    "\n",
    "                .mask((df['腹囲_'].isnull()) |                                                           # 腹囲がない or\n",
    "                     ((df['腹囲_'] == True) &                                                            # 腹囲がある &\n",
    "                     ((df['血圧_'].isnull()) & (df['血糖_'].isnull()) & (df['脂質_'].isnull()) |          # 3項目がない(nanがある) or\n",
    "                      (df['血圧_'] + df['血糖_'] + df['脂質_'] == 1) &                                    # 1つの項目が異常 &\n",
    "                     ((df['血圧_'].isnull()) | (df['血糖_'].isnull()) | (df['脂質_'].isnull()))))         # nanがある\n",
    "                       , 'N/A')                                                                         # 判定なし                 \n",
    "    )\n",
    "    \n",
    "    df_metS = df[df['MetS'] == 'MetS']\n",
    "    df_so_metS = df[df['MetS'] == 's/o_MetS']\n",
    "    df_non_metS = df[df['MetS'] == 'not_MetS']\n",
    "    df_na_metS = df[df['MetS'] == 'N/A']\n",
    "    return df_metS, df_so_metS, df_non_metS, df_na_metS"
   ]
  },
  {
   "cell_type": "code",
   "execution_count": null,
   "metadata": {},
   "outputs": [],
   "source": [
    "# 実行\n",
    "df_metS, df_so_metS, df_non_metS, df_na_metS = mets_judge(df, metS_facter)\n",
    "print(df_metS)\n",
    "print(df_non_metS)"
   ]
  },
  {
   "cell_type": "code",
   "execution_count": null,
   "metadata": {},
   "outputs": [],
   "source": []
  },
  {
   "cell_type": "code",
   "execution_count": null,
   "metadata": {},
   "outputs": [],
   "source": [
    "metS_facter = [['性別', '腹囲'], ['収縮機血圧', '拡張期血圧'], ['空腹時血糖', 'HbA1c'], ['中性脂肪', 'HDL']]"
   ]
  },
  {
   "cell_type": "markdown",
   "metadata": {},
   "source": [
    "1   1,  1,  1,      MetS 　\n",
    "\n",
    "1   1,  1,  nan     MetS 　\n",
    "\n",
    "1   1,  0,  nan     can't 　\n",
    "\n",
    "1   1,  nan,nan     can't 　\n",
    "\n",
    "1   nan,nan,nan     can't 　\n",
    "\n",
    "1   1,  0,  0       s/o 　\n",
    " 　\n",
    "0   1,  1,  1       not 　\n",
    "\n",
    "0   nan,nan,nan     not 　\n"
   ]
  },
  {
   "cell_type": "code",
   "execution_count": null,
   "metadata": {},
   "outputs": [],
   "source": [
    "# facter_binarization\n",
    "def facter_binarization(df, facter_th = ['HbA1c', '>= 5.6']):        #カテゴリー変数を２値化、trueが１、true_valueはリスト\n",
    "    df[f'{facter_th[0]}_'] = list(eval(f\"(df['{facter_th[0]}']\\\n",
    "                                       .mask(df['{facter_th[0]}'] {facter_th[1]}, 1)\\\n",
    "                                       .mask(~(df['{facter_th[0]}'] {facter_th[1]}), 0)\\\n",
    "                                       .mask(df['{facter_th[0]}'].isnull(), np.nan))\"\n",
    "                                       ))"
   ]
  },
  {
   "cell_type": "markdown",
   "metadata": {},
   "source": [
    "## 12/18"
   ]
  }
 ],
 "metadata": {
  "kernelspec": {
   "display_name": "Python 3",
   "language": "python",
   "name": "python3"
  },
  "language_info": {
   "codemirror_mode": {
    "name": "ipython",
    "version": 3
   },
   "file_extension": ".py",
   "mimetype": "text/x-python",
   "name": "python",
   "nbconvert_exporter": "python",
   "pygments_lexer": "ipython3",
   "version": "3.10.10"
  }
 },
 "nbformat": 4,
 "nbformat_minor": 2
}
