{
 "cells": [
  {
   "cell_type": "code",
   "execution_count": null,
   "metadata": {},
   "outputs": [],
   "source": [
    "from scipy.stats import norm\n",
    "import random\n",
    "import numpy as np\n",
    "import pandas as pd\n",
    "random_num1 = norm.rvs(loc = 100, scale = 10, size = 1000)   #平均100、標準偏差10、サイズ1000の正規分布\n",
    "random_num2 = norm.rvs(loc = 110, scale = 10, size = 1000)   #平均110、標準偏差10、サイズ1000の正規分布\n",
    "random_num3 = norm.rvs(loc = 120, scale = 10, size = 1000)   #平均120、標準偏差10、サイズ1000の正規分布\n",
    "random_num4 = norm.rvs(loc = 130, scale = 10, size = 1000)   #平均130、標準偏差10、サイズ1000の正規分布\n",
    "random_num5 = norm.rvs(loc = 100, scale = 15, size = 1000)   #平均140、標準偏差10、サイズ1000の正規分布\n",
    "random_num6 = norm.rvs(loc = 100, scale = 20, size = 1000)   #平均150、標準偏差10、サイズ1000の正規分布\n",
    "random_num7 = norm.rvs(loc = 100, scale = 25, size = 1000)   #平均160、標準偏差10、サイズ1000の正規分布\n",
    "kituenn = [random.randint(0, 1) for i in range(1000)]        #0か1の乱数を1000個生成"
   ]
  },
  {
   "cell_type": "code",
   "execution_count": null,
   "metadata": {},
   "outputs": [],
   "source": [
    "df = pd.DataFrame({'random_num1':random_num1, 'random_num2':random_num2, 'random_num3':random_num3, 'random_num4':random_num4, 'random_num5':random_num5, 'random_num6':random_num6, 'random_num7':random_num7, '喫煙':kituenn})"
   ]
  },
  {
   "cell_type": "code",
   "execution_count": null,
   "metadata": {},
   "outputs": [],
   "source": []
  }
 ],
 "metadata": {
  "kernelspec": {
   "display_name": "Python 3",
   "language": "python",
   "name": "python3"
  },
  "language_info": {
   "codemirror_mode": {
    "name": "ipython",
    "version": 3
   },
   "file_extension": ".py",
   "mimetype": "text/x-python",
   "name": "python",
   "nbconvert_exporter": "python",
   "pygments_lexer": "ipython3",
   "version": "3.10.10"
  }
 },
 "nbformat": 4,
 "nbformat_minor": 2
}
